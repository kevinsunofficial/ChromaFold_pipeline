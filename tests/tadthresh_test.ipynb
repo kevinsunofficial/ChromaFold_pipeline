{
 "cells": [
  {
   "cell_type": "code",
   "execution_count": 1,
   "id": "f199bd88",
   "metadata": {},
   "outputs": [],
   "source": [
    "import os\n",
    "import os.path as osp\n",
    "import numpy as np\n",
    "import pandas as pd\n",
    "import scipy\n",
    "import scipy.stats\n",
    "from scipy.signal import find_peaks\n",
    "from tqdm import tqdm\n",
    "import matplotlib.pyplot as plt\n",
    "import warnings\n",
    "\n",
    "warnings.filterwarnings('ignore')\n",
    "%matplotlib inline"
   ]
  },
  {
   "cell_type": "code",
   "execution_count": 12,
   "id": "9b27c0e9",
   "metadata": {},
   "outputs": [],
   "source": [
    "def load_pred(pred_dir, ct, chrom, pred_len=200, avg_stripe=False):\n",
    "    file = osp.join(pred_dir, ct, 'prediction_{}_chr{}.npz'.format(ct, chrom))\n",
    "    temp = np.load(file)['arr_0']\n",
    "    chrom_len = temp.shape[0]\n",
    "    prep = np.insert(temp, pred_len, 0, axis=1)\n",
    "    mat = np.array([\n",
    "        np.insert(np.zeros(chrom_len+pred_len+1), i, prep[i]) for i in range(chrom_len)\n",
    "    ])\n",
    "    summed = np.vstack((\n",
    "        np.zeros((pred_len, mat.shape[1])), mat\n",
    "    )).T[:chrom_len+pred_len, :chrom_len+pred_len]\n",
    "    if avg_stripe:\n",
    "        summed = (summed + np.vstack((\n",
    "            np.zeros((pred_len, mat.shape[1])), mat\n",
    "        ))[:chrom_len+pred_len, :chrom_len+pred_len])/2\n",
    "    \n",
    "    return summed[pred_len:-pred_len, pred_len:-pred_len]\n",
    "\n",
    "\n",
    "def quantile_norm(pred1, pred2):\n",
    "    l = pred1.shape[0]\n",
    "    pred1_diag = np.array([np.pad(np.diagonal(pred1, offset=i), (0, i), 'constant') for i in range(200)]).T\n",
    "    pred2_diag = np.array([np.pad(np.diagonal(pred2, offset=i), (0, i), 'constant') for i in range(200)]).T\n",
    "    pred = np.column_stack((pred1_diag.ravel(), pred2_diag.ravel()))\n",
    "    df, df_sorted = pd.DataFrame(pred), pd.DataFrame(np.sort(pred, axis=0))\n",
    "    df_mean = df_sorted.mean(axis=1)\n",
    "    df_mean.index += 1\n",
    "    df_qn = df.rank(method='min').stack().astype(int).map(df_mean).unstack()\n",
    "    pred1_stripe, pred2_stripe = df_qn[0].values.reshape(-1,200), df_qn[1].values.reshape(-1,200)\n",
    "    \n",
    "    pred1_qn, pred2_qn = np.zeros_like(pred1), np.zeros_like(pred2)\n",
    "    for i in range(200):\n",
    "        idx = np.arange(l-i, dtype=int)\n",
    "        pred1_qn[idx, idx+i] = pred1_qn[idx+i, idx] = pred1_stripe[:l-i, i]\n",
    "        pred2_qn[idx, idx+i] = pred2_qn[idx+i, idx] = pred2_stripe[:l-i, i]\n",
    "    \n",
    "    return pred1_qn, pred2_qn\n",
    "\n",
    "\n",
    "def quantile_norm_multi(preds):\n",
    "    return\n",
    "\n",
    "\n",
    "def topdom(mat, size):\n",
    "    padmat = np.pad(mat, size, mode='constant', constant_values=np.nan)\n",
    "    dim = padmat.shape[0]\n",
    "    signal = np.array([\n",
    "        np.nanmean(padmat[i-size:i+size, i-size:i+size]) for i in range(dim)\n",
    "    ][size:-size])\n",
    "    \n",
    "    return signal\n",
    "\n",
    "\n",
    "def generate_dim(mindim, maxdim, numdim):\n",
    "    mindim, maxdim = max(1, mindim), min(100, maxdim)\n",
    "    return np.linspace(mindim, maxdim, num=numdim, dtype=int)\n",
    "\n",
    "\n",
    "def get_tads(mat, sizes):\n",
    "    signal = np.array([topdom(mat, i) for i in tqdm(sizes)])\n",
    "    rows, idxs = [], []\n",
    "    for i in range(len(signal)):\n",
    "        idx = find_peaks(signal[i], prominence=(0.25, ))[0]\n",
    "        row = np.full_like(idx, i)\n",
    "        rows.append(row)\n",
    "        idxs.append(idx)\n",
    "    tads = np.array([\n",
    "        np.concatenate(rows, axis=None), np.concatenate(idxs, axis=None)\n",
    "    ])\n",
    "    \n",
    "    return tads\n",
    "\n",
    "\n",
    "def merge_tads(tads1, tads2, sizes, closethresh):\n",
    "    alltads = []\n",
    "    for s in sizes:\n",
    "        n, m = tads1.shape[1], tads2.shape[1]\n",
    "        tads1_s, tads2_s = tads1[1, tads1[0]==s], tads2[1, tads2[0]==s]\n",
    "        i, j = 0, 0\n",
    "        while i < n and j < m:\n",
    "            if abs(tads1_s[i] - tads2_s[j]) <= closethresh:\n",
    "                alltads.append([s, int(mean(tads1_s[i], tads2_s[j]))])\n",
    "                i += 1\n",
    "                j += 1\n",
    "            else:\n",
    "                if tads1_s[i] < tads2_s[j]:\n",
    "                    alltads.append([s, tads1_s[i]])\n",
    "                    i += 1\n",
    "                else:\n",
    "                    alltads.append([s, tads2_s[j]])\n",
    "                    j += 1\n",
    "                    \n",
    "    return np.array(alltads)\n",
    "\n",
    "\n",
    "def tads_to_coords(tads, sizes):\n",
    "    coords = np.array([\n",
    "        tads[1] - sizes[tads[0]], tads[1] + sizes[tads[0]]\n",
    "    ])\n",
    "    \n",
    "    return coords\n",
    "\n",
    "\n",
    "def get_tad_coords(mat1, mat2, mindim=10, maxdim=100, numdim=10, closethresh=2):\n",
    "    sizes = generate_dim(mindim, maxdim, numdim)\n",
    "    tads1, tads2 = get_tads(mat1, sizes), get_tads(mat2, sizes)\n",
    "    alltads = merge_tads(tads1, tads2, sizes, closethresh)\n",
    "    coords = tads_to_coords(alltads, sizes)\n",
    "    \n",
    "    return coords"
   ]
  },
  {
   "cell_type": "code",
   "execution_count": 10,
   "id": "e3e4055e",
   "metadata": {},
   "outputs": [
    {
     "name": "stdout",
     "output_type": "stream",
     "text": [
      "CPU times: user 5.6 s, sys: 2.68 s, total: 8.28 s\n",
      "Wall time: 8.28 s\n"
     ]
    }
   ],
   "source": [
    "%%time\n",
    "\n",
    "chrom = 16\n",
    "pred_dir = '/data/leslie/suny4/predictions/chromafold/'\n",
    "ct1 = 'mycGCB_am_gfp_myc_gcb_thelp_sample'\n",
    "ct2 = 'mycGCB_am_gfp_myc_gcb_nothelp_sample'\n",
    "\n",
    "pred1 = load_pred(pred_dir, ct1, chrom, avg_stripe=True)\n",
    "pred2 = load_pred(pred_dir, ct2, chrom, avg_stripe=True)\n",
    "pred1_qn, pred2_qn = quantile_norm(pred1, pred2)"
   ]
  },
  {
   "cell_type": "code",
   "execution_count": 13,
   "id": "37c3463d",
   "metadata": {},
   "outputs": [
    {
     "name": "stderr",
     "output_type": "stream",
     "text": [
      "100%|██████████| 10/10 [00:13<00:00,  1.33s/it]\n",
      "100%|██████████| 10/10 [00:12<00:00,  1.21s/it]\n"
     ]
    },
    {
     "ename": "IndexError",
     "evalue": "index 0 is out of bounds for axis 0 with size 0",
     "output_type": "error",
     "traceback": [
      "\u001b[0;31m---------------------------------------------------------------------------\u001b[0m",
      "\u001b[0;31mIndexError\u001b[0m                                Traceback (most recent call last)",
      "\u001b[0;32m<ipython-input-13-7bf9f203bee3>\u001b[0m in \u001b[0;36m<module>\u001b[0;34m\u001b[0m\n\u001b[0;32m----> 1\u001b[0;31m \u001b[0mcoords\u001b[0m \u001b[0;34m=\u001b[0m \u001b[0mget_tad_coords\u001b[0m\u001b[0;34m(\u001b[0m\u001b[0mpred1_qn\u001b[0m\u001b[0;34m,\u001b[0m \u001b[0mpred2_qn\u001b[0m\u001b[0;34m)\u001b[0m\u001b[0;34m\u001b[0m\u001b[0;34m\u001b[0m\u001b[0m\n\u001b[0m\u001b[1;32m      2\u001b[0m \u001b[0mcoords\u001b[0m\u001b[0;34m\u001b[0m\u001b[0;34m\u001b[0m\u001b[0m\n",
      "\u001b[0;32m<ipython-input-12-8b120ff92051>\u001b[0m in \u001b[0;36mget_tad_coords\u001b[0;34m(mat1, mat2, mindim, maxdim, numdim, closethresh)\u001b[0m\n\u001b[1;32m    105\u001b[0m     \u001b[0msizes\u001b[0m \u001b[0;34m=\u001b[0m \u001b[0mgenerate_dim\u001b[0m\u001b[0;34m(\u001b[0m\u001b[0mmindim\u001b[0m\u001b[0;34m,\u001b[0m \u001b[0mmaxdim\u001b[0m\u001b[0;34m,\u001b[0m \u001b[0mnumdim\u001b[0m\u001b[0;34m)\u001b[0m\u001b[0;34m\u001b[0m\u001b[0;34m\u001b[0m\u001b[0m\n\u001b[1;32m    106\u001b[0m     \u001b[0mtads1\u001b[0m\u001b[0;34m,\u001b[0m \u001b[0mtads2\u001b[0m \u001b[0;34m=\u001b[0m \u001b[0mget_tads\u001b[0m\u001b[0;34m(\u001b[0m\u001b[0mmat1\u001b[0m\u001b[0;34m,\u001b[0m \u001b[0msizes\u001b[0m\u001b[0;34m)\u001b[0m\u001b[0;34m,\u001b[0m \u001b[0mget_tads\u001b[0m\u001b[0;34m(\u001b[0m\u001b[0mmat2\u001b[0m\u001b[0;34m,\u001b[0m \u001b[0msizes\u001b[0m\u001b[0;34m)\u001b[0m\u001b[0;34m\u001b[0m\u001b[0;34m\u001b[0m\u001b[0m\n\u001b[0;32m--> 107\u001b[0;31m     \u001b[0malltads\u001b[0m \u001b[0;34m=\u001b[0m \u001b[0mmerge_tads\u001b[0m\u001b[0;34m(\u001b[0m\u001b[0mtads1\u001b[0m\u001b[0;34m,\u001b[0m \u001b[0mtads2\u001b[0m\u001b[0;34m,\u001b[0m \u001b[0msizes\u001b[0m\u001b[0;34m,\u001b[0m \u001b[0mclosethresh\u001b[0m\u001b[0;34m)\u001b[0m\u001b[0;34m\u001b[0m\u001b[0;34m\u001b[0m\u001b[0m\n\u001b[0m\u001b[1;32m    108\u001b[0m     \u001b[0mcoords\u001b[0m \u001b[0;34m=\u001b[0m \u001b[0mtads_to_coords\u001b[0m\u001b[0;34m(\u001b[0m\u001b[0malltads\u001b[0m\u001b[0;34m,\u001b[0m \u001b[0msizes\u001b[0m\u001b[0;34m)\u001b[0m\u001b[0;34m\u001b[0m\u001b[0;34m\u001b[0m\u001b[0m\n\u001b[1;32m    109\u001b[0m \u001b[0;34m\u001b[0m\u001b[0m\n",
      "\u001b[0;32m<ipython-input-12-8b120ff92051>\u001b[0m in \u001b[0;36mmerge_tads\u001b[0;34m(tads1, tads2, sizes, closethresh)\u001b[0m\n\u001b[1;32m     79\u001b[0m         \u001b[0mi\u001b[0m\u001b[0;34m,\u001b[0m \u001b[0mj\u001b[0m \u001b[0;34m=\u001b[0m \u001b[0;36m0\u001b[0m\u001b[0;34m,\u001b[0m \u001b[0;36m0\u001b[0m\u001b[0;34m\u001b[0m\u001b[0;34m\u001b[0m\u001b[0m\n\u001b[1;32m     80\u001b[0m         \u001b[0;32mwhile\u001b[0m \u001b[0mi\u001b[0m \u001b[0;34m<\u001b[0m \u001b[0mn\u001b[0m \u001b[0;32mand\u001b[0m \u001b[0mj\u001b[0m \u001b[0;34m<\u001b[0m \u001b[0mm\u001b[0m\u001b[0;34m:\u001b[0m\u001b[0;34m\u001b[0m\u001b[0;34m\u001b[0m\u001b[0m\n\u001b[0;32m---> 81\u001b[0;31m             \u001b[0;32mif\u001b[0m \u001b[0mabs\u001b[0m\u001b[0;34m(\u001b[0m\u001b[0mtads1_s\u001b[0m\u001b[0;34m[\u001b[0m\u001b[0mi\u001b[0m\u001b[0;34m]\u001b[0m \u001b[0;34m-\u001b[0m \u001b[0mtads2_s\u001b[0m\u001b[0;34m[\u001b[0m\u001b[0mj\u001b[0m\u001b[0;34m]\u001b[0m\u001b[0;34m)\u001b[0m \u001b[0;34m<=\u001b[0m \u001b[0mclosethresh\u001b[0m\u001b[0;34m:\u001b[0m\u001b[0;34m\u001b[0m\u001b[0;34m\u001b[0m\u001b[0m\n\u001b[0m\u001b[1;32m     82\u001b[0m                 \u001b[0malltads\u001b[0m\u001b[0;34m.\u001b[0m\u001b[0mappend\u001b[0m\u001b[0;34m(\u001b[0m\u001b[0;34m[\u001b[0m\u001b[0ms\u001b[0m\u001b[0;34m,\u001b[0m \u001b[0mint\u001b[0m\u001b[0;34m(\u001b[0m\u001b[0mmean\u001b[0m\u001b[0;34m(\u001b[0m\u001b[0mtads1_s\u001b[0m\u001b[0;34m[\u001b[0m\u001b[0mi\u001b[0m\u001b[0;34m]\u001b[0m\u001b[0;34m,\u001b[0m \u001b[0mtads2_s\u001b[0m\u001b[0;34m[\u001b[0m\u001b[0mj\u001b[0m\u001b[0;34m]\u001b[0m\u001b[0;34m)\u001b[0m\u001b[0;34m)\u001b[0m\u001b[0;34m]\u001b[0m\u001b[0;34m)\u001b[0m\u001b[0;34m\u001b[0m\u001b[0;34m\u001b[0m\u001b[0m\n\u001b[1;32m     83\u001b[0m                 \u001b[0mi\u001b[0m \u001b[0;34m+=\u001b[0m \u001b[0;36m1\u001b[0m\u001b[0;34m\u001b[0m\u001b[0;34m\u001b[0m\u001b[0m\n",
      "\u001b[0;31mIndexError\u001b[0m: index 0 is out of bounds for axis 0 with size 0"
     ]
    }
   ],
   "source": [
    "coords = get_tad_coords(pred1_qn, pred2_qn)\n",
    "coords"
   ]
  },
  {
   "cell_type": "code",
   "execution_count": null,
   "id": "cab1d662",
   "metadata": {},
   "outputs": [],
   "source": []
  }
 ],
 "metadata": {
  "kernelspec": {
   "display_name": "Python [conda env:cuda111_torch]",
   "language": "python",
   "name": "conda-env-cuda111_torch-py"
  },
  "language_info": {
   "codemirror_mode": {
    "name": "ipython",
    "version": 3
   },
   "file_extension": ".py",
   "mimetype": "text/x-python",
   "name": "python",
   "nbconvert_exporter": "python",
   "pygments_lexer": "ipython3",
   "version": "3.8.12"
  }
 },
 "nbformat": 4,
 "nbformat_minor": 5
}
