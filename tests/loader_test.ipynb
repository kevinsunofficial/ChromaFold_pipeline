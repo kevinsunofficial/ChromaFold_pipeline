{
 "cells": [
  {
   "cell_type": "code",
   "execution_count": 96,
   "id": "d56b42ee",
   "metadata": {},
   "outputs": [],
   "source": [
    "import os\n",
    "import os.path as osp\n",
    "import numpy as np\n",
    "import pandas as pd\n",
    "import scipy\n",
    "from scipy.sparse import csr_matrix\n",
    "import torch\n",
    "from sklearn import metrics\n",
    "import pickle\n",
    "import matplotlib.pyplot as plt\n",
    "from tqdm import tqdm\n",
    "import itertools\n",
    "import argparse\n",
    "import warnings\n",
    "\n",
    "warnings.filterwarnings('ignore')\n",
    "%matplotlib inline"
   ]
  },
  {
   "cell_type": "code",
   "execution_count": 97,
   "id": "9173785f",
   "metadata": {},
   "outputs": [],
   "source": [
    "input_dir = '/data/leslie/suny4/processed_input'\n",
    "atac_dir = osp.join(input_dir, 'atac')\n",
    "chrom = 1\n",
    "ct = 'mycGCB_am_gfp_myc_gcb_thelp_sample'\n",
    "start = 12345"
   ]
  },
  {
   "cell_type": "code",
   "execution_count": 137,
   "id": "f4c03871",
   "metadata": {},
   "outputs": [],
   "source": [
    "def load_ctcf(ctcf_path, chrom, start):\n",
    "    ctcf_all = pickle.load(open(ctcf_path, 'rb'))\n",
    "    ctcf = ctcf_all['chr{}'.format(chrom)].toarray()[0][start*200: (start+700)*200]\n",
    "\n",
    "    return ctcf\n",
    "\n",
    "\n",
    "def load_atac(atac_path, chrom, start):\n",
    "    atac_all = pickle.load(open(atac_path, 'rb'))\n",
    "    atac = atac_all['chr{}'.format(chrom)].flatten()[start*200: (start+700)*200]\n",
    "\n",
    "    return atac\n",
    "\n",
    "\n",
    "def load_scatac(scatac_path, metacell_path, chrom, start):\n",
    "    scatac_pre = pickle.load(open(scatac_path, 'rb'))['chr{}'.format(chrom)]\n",
    "    metacell = csr_matrix(pd.read_csv(metacell_path, index_col=0).values)\n",
    "    tmp = torch.tensor((metacell * scatac_pre)[:, start*20:(start+700)*20].toarray()).T\n",
    "\n",
    "    size, eps = tmp.shape[1], 1e-8\n",
    "    one, zero = torch.tensor(1.0), torch.tensor(0.0)\n",
    "    lrg = torch.where(tmp>0, one, zero)\n",
    "    eql = torch.where(tmp==0, one, zero)\n",
    "    num, denom = lrg @ lrg.T, size - eql @ eql.T\n",
    "    scatac = torch.div(num, torch.max(denom, eps * torch.ones_like(denom)))\n",
    "    scatac[scatac != scatac] = 0\n",
    "\n",
    "    scatac = scatac.reshape(\n",
    "        scatac.shape[0]//20, 20, -1\n",
    "    ).mean(axis=1).reshape(\n",
    "        -1, scatac.shape[1]//20, 20\n",
    "    ).mean(axis=2)\n",
    "\n",
    "    return scatac\n",
    "\n",
    "\n",
    "def load_multiome(input_dir, ct, chrom, start, genome='mm10'):\n",
    "    ctcf_path = osp.join(input_dir, 'dna', '{}_ctcf_motif_score.p'.format(genome))\n",
    "    atac_path = osp.join(input_dir, 'atac', '{}_tile_pbulk_50bp_dict.p'.format(ct))\n",
    "    scatac_path = osp.join(input_dir, 'atac', '{}_tile_500bp_dict.p'.format(ct))\n",
    "    metacell_path = osp.join(input_dir, 'atac', '{}_metacell_mask.csv'.format(ct))\n",
    "\n",
    "    ctcf = load_ctcf(ctcf_path, chrom, start)\n",
    "    atac = load_atac(atac_path, chrom, start)\n",
    "    scatac = load_scatac(scatac_path, metacell_path, chrom, start)\n",
    "\n",
    "    return ctcf, atac, scatac\n",
    "\n",
    "\n",
    "def load_pred(pred_dir, ct, chrom, pred_len=200, avg_stripe=False):\n",
    "    file = osp.join(pred_dir, ct, 'prediction_{}_chr{}.npz'.format(ct, chrom))\n",
    "    temp = np.load(file)['arr_0']\n",
    "    chrom_len = temp.shape[0]\n",
    "    prep = np.insert(temp, pred_len, 0, axis=1)\n",
    "    mat = np.array([\n",
    "        np.insert(np.zeros(chrom_len+pred_len+1), i, prep[i]) for i in range(chrom_len)\n",
    "    ])\n",
    "    summed = np.vstack((\n",
    "        np.zeros((pred_len, mat.shape[1])), mat\n",
    "    )).T[:chrom_len+pred_len, :chrom_len+pred_len]\n",
    "    if avg_stripe:\n",
    "        summed = (summed + np.vstack((\n",
    "            np.zeros((pred_len, mat.shape[1])), mat\n",
    "        ))[:chrom_len+pred_len, :chrom_len+pred_len])/2\n",
    "    \n",
    "    return summed[pred_len:-pred_len, pred_len:-pred_len]"
   ]
  },
  {
   "cell_type": "code",
   "execution_count": 143,
   "id": "649ce351",
   "metadata": {},
   "outputs": [],
   "source": [
    "ctcf_path = '/data/leslie/suny4/processed_input/dna/mm10_ctcf_motif_score.p'\n",
    "ctcf = pickle.load(open(ctcf_path, 'rb'))['chr1'].toarray()[0]"
   ]
  },
  {
   "cell_type": "code",
   "execution_count": 144,
   "id": "051e3422",
   "metadata": {},
   "outputs": [
    {
     "data": {
      "text/plain": [
       "[]"
      ]
     },
     "execution_count": 144,
     "metadata": {},
     "output_type": "execute_result"
    },
    {
     "data": {
      "image/png": "[encoded data removed]",
      "text/plain": [
       "<Figure size 432x288 with 1 Axes>"
      ]
     },
     "metadata": {
      "needs_background": "light"
     },
     "output_type": "display_data"
    }
   ],
   "source": [
    "plt.plot(ctcf)\n",
    "plt.plot()"
   ]
  },
  {
   "cell_type": "code",
   "execution_count": 145,
   "id": "6b12c319",
   "metadata": {},
   "outputs": [
    {
     "data": {
      "text/plain": [
       "(3909440,)"
      ]
     },
     "execution_count": 145,
     "metadata": {},
     "output_type": "execute_result"
    }
   ],
   "source": [
    "ctcf.shape"
   ]
  },
  {
   "cell_type": "code",
   "execution_count": null,
   "id": "1a544bde",
   "metadata": {},
   "outputs": [],
   "source": []
  }
 ],
 "metadata": {
  "kernelspec": {
   "display_name": "Python [conda env:cuda111_torch]",
   "language": "python",
   "name": "conda-env-cuda111_torch-py"
  },
  "language_info": {
   "codemirror_mode": {
    "name": "ipython",
    "version": 3
   },
   "file_extension": ".py",
   "mimetype": "text/x-python",
   "name": "python",
   "nbconvert_exporter": "python",
   "pygments_lexer": "ipython3",
   "version": "3.8.12"
  }
 },
 "nbformat": 4,
 "nbformat_minor": 5
}
