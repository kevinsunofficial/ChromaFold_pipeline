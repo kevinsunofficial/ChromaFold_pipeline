{
 "cells": [
  {
   "cell_type": "code",
   "execution_count": 1,
   "id": "d56b42ee",
   "metadata": {},
   "outputs": [],
   "source": [
    "import os\n",
    "import os.path as osp\n",
    "import numpy as np\n",
    "import pandas as pd\n",
    "import scipy\n",
    "import torch\n",
    "from sklearn import metrics\n",
    "import pickle\n",
    "import matplotlib.pyplot as plt\n",
    "from tqdm import tqdm\n",
    "import itertools\n",
    "import argparse\n",
    "import warnings\n",
    "\n",
    "warnings.filterwarnings('ignore')\n",
    "%matplotlib inline"
   ]
  },
  {
   "cell_type": "code",
   "execution_count": 6,
   "id": "9173785f",
   "metadata": {},
   "outputs": [],
   "source": [
    "input_dir = '/data/leslie/suny4/processed_input'\n",
    "atac_dir = osp.join(input_dir, 'atac')\n",
    "chrom = 1\n",
    "ct = 'mycGCB_am_gfp_myc_gcb_thelp_sample'"
   ]
  },
  {
   "cell_type": "code",
   "execution_count": 5,
   "id": "4c676bfc",
   "metadata": {},
   "outputs": [],
   "source": [
    "def get_metacell_profile(tile_dict, nbrs):\n",
    "    metacell_tile_dict = {}\n",
    "    metacell = nbrs\n",
    "    for chrom in list(tile_dict.keys()):\n",
    "        metacell_tile_dict[chrom] = (scipy.sparse.csr_matrix(metacell) * tile_dict[chrom])\n",
    "    return metacell_tile_dict\n",
    "\n",
    "\n",
    "def cpu_jaccard_vstripe(x):\n",
    "    size = x.shape[1]\n",
    "    eps=1e-8\n",
    "\n",
    "    x = torch.where(x>0.0, torch.tensor([1.0]), torch.tensor([0.0]))\n",
    "    num = torch.mm(x, x.transpose(0,1))\n",
    "    \n",
    "    x = torch.where(x==0.0, torch.tensor([1.0]), torch.tensor([0.0]))\n",
    "    denom = torch.mm(x, x.transpose(0,1))\n",
    "    denom = size - denom\n",
    "\n",
    "    num = torch.div(num, torch.max(denom, eps * torch.ones_like(denom)))\n",
    "    return num\n",
    "\n",
    "\n",
    "def cpu_batch_corcoeff_vstripe(x):\n",
    "    c = cpu_jaccard_vstripe(x.permute(1,0))\n",
    "    c[c != c] = 0\n",
    "    return c\n",
    "\n",
    "\n",
    "def calc_jaccard(scatac, chrom, start):\n",
    "    tmp = cpu_batch_corcoeff_vstripe(\n",
    "        torch.tensor(scatac['chr{}'.format(chrom)][:,start*20:(start+700)*20].toarray())\n",
    "    )\n",
    "    tmp = tmp.reshape(tmp.shape[0]//20,20,-1).mean(axis=1).reshape(-1,tmp.shape[1]//20,20).mean(axis=2)\n",
    "    return tmp\n",
    "\n",
    "\n",
    "def load_atac_data(atac_dir, chrom, ct):\n",
    "    atac = pickle.load(open(osp.join(atac_dir,'{}_tile_pbulk_50bp_dict.p'.format(ct)),'rb'))\n",
    "    atac = atac['chr{}'.format(chrom)]\n",
    "    scatac = pickle.load(open(osp.join(atac_dir,'{}_tile_500bp_dict.p'.format(ct)),'rb'))\n",
    "    metacell_path = pd.read_csv(osp.join(atac_dir,'{}_metacell_mask.csv'.format(ct)),index_col=0).values\n",
    "    scatac = get_metacell_profile(scatac, metacell_path)\n",
    "    return atac, scatac"
   ]
  },
  {
   "cell_type": "code",
   "execution_count": 15,
   "id": "e0909aa8",
   "metadata": {},
   "outputs": [],
   "source": [
    "scatacfile = pickle.load(open(osp.join(atac_dir,'{}_tile_500bp_dict.p'.format(ct)),'rb'))\n",
    "scatac_test = scatacfile['chr{}'.format(chrom)]\n",
    "metacell_test = pd.read_csv(osp.join(atac_dir,'{}_metacell_mask.csv'.format(ct)),index_col=0).values"
   ]
  },
  {
   "cell_type": "code",
   "execution_count": 16,
   "id": "82a6c816",
   "metadata": {},
   "outputs": [],
   "source": [
    "scatac_test = metacell_tiledict = scipy.sparse.csr_matrix(metacell_test) * scatac_test"
   ]
  },
  {
   "cell_type": "code",
   "execution_count": 17,
   "id": "471ed438",
   "metadata": {},
   "outputs": [
    {
     "data": {
      "text/plain": [
       "<27x390944 sparse matrix of type '<class 'numpy.float64'>'\n",
       "\twith 1607534 stored elements in Compressed Sparse Row format>"
      ]
     },
     "execution_count": 17,
     "metadata": {},
     "output_type": "execute_result"
    }
   ],
   "source": [
    "scatac_test"
   ]
  },
  {
   "cell_type": "code",
   "execution_count": 8,
   "id": "400a6ac8",
   "metadata": {},
   "outputs": [],
   "source": [
    "atac, scatac = load_atac_data(atac_dir, chrom, ct)\n",
    "jaccard = calc_jaccard(scatac, chrom, 12345)"
   ]
  },
  {
   "cell_type": "code",
   "execution_count": 9,
   "id": "2a7fa74a",
   "metadata": {},
   "outputs": [
    {
     "data": {
      "text/plain": [
       "tensor([[0.0390, 0.0105, 0.0112,  ..., 0.0331, 0.0285, 0.0212],\n",
       "        [0.0105, 0.0150, 0.0071,  ..., 0.0142, 0.0148, 0.0145],\n",
       "        [0.0112, 0.0071, 0.0402,  ..., 0.0196, 0.0162, 0.0154],\n",
       "        ...,\n",
       "        [0.0331, 0.0142, 0.0196,  ..., 0.1175, 0.0482, 0.0469],\n",
       "        [0.0285, 0.0148, 0.0162,  ..., 0.0482, 0.0989, 0.0451],\n",
       "        [0.0212, 0.0145, 0.0154,  ..., 0.0469, 0.0451, 0.0840]])"
      ]
     },
     "execution_count": 9,
     "metadata": {},
     "output_type": "execute_result"
    }
   ],
   "source": [
    "jaccard"
   ]
  },
  {
   "cell_type": "code",
   "execution_count": null,
   "id": "275675c4",
   "metadata": {},
   "outputs": [],
   "source": []
  }
 ],
 "metadata": {
  "kernelspec": {
   "display_name": "Python [conda env:cuda111_torch]",
   "language": "python",
   "name": "conda-env-cuda111_torch-py"
  },
  "language_info": {
   "codemirror_mode": {
    "name": "ipython",
    "version": 3
   },
   "file_extension": ".py",
   "mimetype": "text/x-python",
   "name": "python",
   "nbconvert_exporter": "python",
   "pygments_lexer": "ipython3",
   "version": "3.8.12"
  }
 },
 "nbformat": 4,
 "nbformat_minor": 5
}
