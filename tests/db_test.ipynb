{
 "cells": [
  {
   "cell_type": "code",
   "execution_count": 1,
   "id": "64424f74",
   "metadata": {},
   "outputs": [],
   "source": [
    "import os\n",
    "import os.path as osp\n",
    "import numpy as np\n",
    "import pandas as pd\n",
    "import scipy\n",
    "import scipy.stats\n",
    "import matplotlib.pyplot as plt\n",
    "import warnings\n",
    "import gffutils\n",
    "from tqdm import tqdm\n",
    "import json\n",
    "\n",
    "warnings.filterwarnings('ignore')\n",
    "%matplotlib inline"
   ]
  },
  {
   "cell_type": "code",
   "execution_count": 91,
   "id": "b6ec14b6",
   "metadata": {},
   "outputs": [],
   "source": [
    "def load_pred(pred_dir, ct, chrom, pred_len=200, avg_stripe=False):\n",
    "    file = osp.join(pred_dir, ct, 'prediction_{}_chr{}.npz'.format(ct, chrom))\n",
    "    temp = np.load(file)['arr_0']\n",
    "    chrom_len = temp.shape[0]\n",
    "    prep = np.insert(temp, pred_len, 0, axis=1)\n",
    "    mat = np.array([\n",
    "        np.insert(np.zeros(chrom_len+pred_len+1), i, prep[i]) for i in range(chrom_len)\n",
    "    ])\n",
    "    summed = np.vstack((\n",
    "        np.zeros((pred_len, mat.shape[1])), mat\n",
    "    )).T[:chrom_len+pred_len, :chrom_len+pred_len]\n",
    "    if avg_stripe:\n",
    "        summed = (summed + np.vstack((\n",
    "            np.zeros((pred_len, mat.shape[1])), mat\n",
    "        ))[:chrom_len+pred_len, :chrom_len+pred_len])/2\n",
    "    \n",
    "    return summed[pred_len:-pred_len, pred_len:-pred_len]\n",
    "\n",
    "\n",
    "def load_database(db_file, gtf_file):\n",
    "    if osp.isfile(db_file):\n",
    "        db = gffutils.FeatureDB(db_file)\n",
    "    else:\n",
    "        db = gffutils.create_db(gtf_file, db_file)\n",
    "    \n",
    "    return db\n",
    "\n",
    "\n",
    "def parse_query(line):\n",
    "    start, end, chrom, table, featuretype = line\n",
    "    select_from = 'SELECT * FROM {} WHERE'.format(table)\n",
    "    start_req = 'start >= {}'.format(start)\n",
    "    end_req = 'end <= {}'.format(end)\n",
    "    chrom_req = 'seqid = \\\"chr{}\\\"'.format(chrom)\n",
    "    feature_req = 'featuretype = \\\"{}\\\"'.format(featuretype)\n",
    "    where_reqs = ' AND '.join([start_req, end_req, chrom_req, feature_req])\n",
    "    query = ' '.join([select_from, where_reqs])\n",
    "    \n",
    "    return query\n",
    "\n",
    "\n",
    "def generate_query(regions, chrom, table='features', featuretype='gene'):\n",
    "    regions['chrom'] = chrom\n",
    "    regions['table'] = table\n",
    "    regions['featuretype'] = featuretype\n",
    "    reqs = regions.apply(parse_query, 1)\n",
    "\n",
    "    return reqs\n",
    "\n",
    "\n",
    "def merge_attr(attrs):\n",
    "    return {k: [attr[k][0] if k in attr else None for attr in attrs] for k in attrs[0].keys()}\n",
    "\n",
    "\n",
    "def check_attr(attr, restrictions):\n",
    "    restrictions = restrictions.strip().split()\n",
    "    for restr in restrictions:\n",
    "        k, v = restr.strip().split('=')\n",
    "        if attr[k][0] != v: return False\n",
    "        \n",
    "    return True\n",
    "\n",
    "\n",
    "def db_query(db, queries, restrictions=None):\n",
    "    chrom, start, end = [], [], []\n",
    "    attributes = []\n",
    "    for query in tqdm(queries):\n",
    "        itr = db.execute(query).fetchall()\n",
    "        for obj in itr:\n",
    "            attr = json.loads(obj['attributes'])\n",
    "            if restrictions is not None:\n",
    "                if not check_attr(attr, restrictions): continue\n",
    "            chrom.append(obj['seqid'])\n",
    "            start.append(obj['start'])\n",
    "            end.append(obj['end'])\n",
    "            attributes.append(attr)\n",
    "    info = pd.DataFrame({\n",
    "        'chrom': chrom,\n",
    "        'start': start,\n",
    "        'end': end\n",
    "    })\n",
    "    attrs = pd.DataFrame(merge_attr(attributes))\n",
    "    \n",
    "    return pd.concat([info, attrs], axis=1)"
   ]
  },
  {
   "cell_type": "code",
   "execution_count": 94,
   "id": "62c1b13b",
   "metadata": {},
   "outputs": [],
   "source": [
    "def topdom(pred_mat, window_size=10, cutoff=None):\n",
    "    if pred_mat.shape[0]-pred_mat.shape[1]:\n",
    "        raise ValueError(\n",
    "            'Dimension mismatch ({}, {})'.format(pred_mat.shape[0], pred_mat.shape[1])\n",
    "        )\n",
    "    pad_mat = np.pad(pred_mat, window_size, mode='constant', constant_values=np.nan)\n",
    "    dim = pad_mat.shape[0]\n",
    "    signal = np.array([\n",
    "        np.nanmean(pad_mat[i-window_size:i, i:i+window_size]) for i in range(dim)\n",
    "    ][window_size+1: -window_size])\n",
    "    if cutoff is not None:\n",
    "        signal[signal<cutoff] = cutoff\n",
    "\n",
    "    return signal\n",
    "\n",
    "\n",
    "def interpolate(signal, bin_size=10000, pattern='smooth'):\n",
    "    if pattern is None: return signal\n",
    "    if pattern not in ['smooth', 'zigzag']:\n",
    "        raise ValueError(\n",
    "            'Bad parameter, expecting \\'smooth\\' or \\'zigzag\\' but got \\'{}\\''.format(pattern)\n",
    "        )\n",
    "    if pattern=='smooth':\n",
    "        l = len(signal) * bin_size\n",
    "        sparse, compact = np.linspace(0, l, len(signal)), np.linspace(0, l, l)\n",
    "        interp_signal = np.interp(compact, sparse, signal)\n",
    "    else:\n",
    "        interp_signal = np.tile(signal, (bin_size, 1)).flatten('F')\n",
    "    \n",
    "    return interp_signal\n",
    "\n",
    "\n",
    "def similarity(signal1, signal2, window_size=100):\n",
    "    if len(signal1)-len(signal2):\n",
    "        raise ValueError(\n",
    "            'Different signal1.length ({}) and signal2.length ({})'.format(len(signal1), len(signal2))\n",
    "        )\n",
    "    l = len(signal1)\n",
    "    score = np.array([\n",
    "        scipy.stats.pearsonr(\n",
    "            signal1[i:i+window_size], signal2[i:i+window_size]\n",
    "        )[0] for i in range(l-window_size)\n",
    "    ])\n",
    "    score[np.isnan(score)] = 1\n",
    "\n",
    "    return score\n",
    "\n",
    "\n",
    "def threshold(score, cutoff=0.7, margin=10000):\n",
    "    indices = np.argwhere(score < cutoff).flatten()\n",
    "    starts, ends = [], []\n",
    "    s, e = 0, 0\n",
    "    for i in tqdm(indices):\n",
    "        if not s and not e: s, e = i, i\n",
    "        else:\n",
    "            if i - e <= margin: e = i\n",
    "            else:\n",
    "                starts.append(s)\n",
    "                ends.append(e)\n",
    "                s, e = i, i\n",
    "    if e != ends[-1]:\n",
    "        starts.append(s)\n",
    "        ends.append(e)\n",
    "    regions = pd.DataFrame({\n",
    "        'start': np.array(starts) - margin,\n",
    "        'end': np.array(ends) + margin\n",
    "    })\n",
    "    return regions"
   ]
  },
  {
   "cell_type": "code",
   "execution_count": 95,
   "id": "fb97e018",
   "metadata": {},
   "outputs": [
    {
     "data": {
      "text/plain": [
       "('/data/leslie/suny4/predictions/chromafold/mycGCB_am_gfp_myc_gcb_thelp_sample',\n",
       " '/data/leslie/suny4/predictions/chromafold/mycGCB_am_gfp_myc_gcb_nothelp_sample')"
      ]
     },
     "execution_count": 95,
     "metadata": {},
     "output_type": "execute_result"
    }
   ],
   "source": [
    "pred_dir = '/data/leslie/suny4/predictions/chromafold/'\n",
    "gtf_file = '/data/leslie/suny4/data/chrom_size/gencode.vM10.basic.annotation.gtf'\n",
    "db_file = '/data/leslie/suny4/data/chrom_size/gencode.vM10.basic.annotation.db'\n",
    "ct1 = 'mycGCB_am_gfp_myc_gcb_thelp_sample'\n",
    "ct2 = 'mycGCB_am_gfp_myc_gcb_nothelp_sample'\n",
    "chrom = 1\n",
    "osp.join(pred_dir, ct1), osp.join(pred_dir, ct2)"
   ]
  },
  {
   "cell_type": "code",
   "execution_count": 96,
   "id": "77b67e14",
   "metadata": {},
   "outputs": [
    {
     "name": "stdout",
     "output_type": "stream",
     "text": [
      "CPU times: user 5.38 s, sys: 6.66 s, total: 12 s\n",
      "Wall time: 12.3 s\n"
     ]
    }
   ],
   "source": [
    "%%time\n",
    "\n",
    "pred1, pred2 = load_pred(pred_dir, ct1, chrom), load_pred(pred_dir, ct2, chrom)"
   ]
  },
  {
   "cell_type": "code",
   "execution_count": 97,
   "id": "299d197f",
   "metadata": {},
   "outputs": [
    {
     "name": "stdout",
     "output_type": "stream",
     "text": [
      "CPU times: user 6.79 s, sys: 1.67 s, total: 8.46 s\n",
      "Wall time: 8.46 s\n"
     ]
    }
   ],
   "source": [
    "%%time\n",
    "\n",
    "signal1, signal2 = topdom(pred1, cutoff=0), topdom(pred2, cutoff=0)"
   ]
  },
  {
   "cell_type": "code",
   "execution_count": 98,
   "id": "5a7aee17",
   "metadata": {},
   "outputs": [
    {
     "name": "stdout",
     "output_type": "stream",
     "text": [
      "CPU times: user 2.71 s, sys: 848 ms, total: 3.56 s\n",
      "Wall time: 3.53 s\n"
     ]
    }
   ],
   "source": [
    "%%time\n",
    "\n",
    "raw_simscore = similarity(signal1, signal2)\n",
    "simscore = interpolate(raw_simscore, pattern='smooth')"
   ]
  },
  {
   "cell_type": "code",
   "execution_count": 99,
   "id": "1b9734cf",
   "metadata": {},
   "outputs": [
    {
     "name": "stderr",
     "output_type": "stream",
     "text": [
      "100%|██████████| 7626004/7626004 [00:03<00:00, 1921407.67it/s]"
     ]
    },
    {
     "name": "stdout",
     "output_type": "stream",
     "text": [
      "CPU times: user 4.52 s, sys: 152 ms, total: 4.67 s\n",
      "Wall time: 4.64 s\n"
     ]
    },
    {
     "name": "stderr",
     "output_type": "stream",
     "text": [
      "\n"
     ]
    }
   ],
   "source": [
    "%%time\n",
    "\n",
    "regions = threshold(simscore)\n",
    "queries = generate_query(regions, chrom=chrom, table='features', featuretype='gene')"
   ]
  },
  {
   "cell_type": "code",
   "execution_count": 13,
   "id": "fb4c0932",
   "metadata": {
    "scrolled": false
   },
   "outputs": [
    {
     "name": "stdout",
     "output_type": "stream",
     "text": [
      "CREATE TABLE features (\n",
      "    id text,\n",
      "    seqid text,\n",
      "    source text,\n",
      "    featuretype text,\n",
      "    start int,\n",
      "    end int,\n",
      "    score text,\n",
      "    strand text,\n",
      "    frame text,\n",
      "    attributes text,\n",
      "    extra text,\n",
      "    bin int,\n",
      "    primary key (id)\n",
      "    )\n",
      "CREATE TABLE relations (\n",
      "    parent text,\n",
      "    child text,\n",
      "    level int,\n",
      "    primary key (parent, child, level)\n",
      "    )\n",
      "CREATE TABLE meta (\n",
      "    dialect text,\n",
      "    version text\n",
      "    )\n",
      "CREATE TABLE directives (\n",
      "    directive text\n",
      "    )\n",
      "CREATE TABLE autoincrements (\n",
      "    base text,\n",
      "    n int,\n",
      "    primary key (base)\n",
      "    )\n",
      "CREATE TABLE duplicates (\n",
      "    idspecid text,\n",
      "    newid text,\n",
      "    primary key (newid)\n",
      "    )\n",
      "CREATE INDEX relationsparent ON relations (parent)\n",
      "CREATE INDEX relationschild ON relations (child)\n",
      "CREATE INDEX featuretype ON features (featuretype)\n",
      "CREATE INDEX seqidstartend ON features (seqid, start, end)\n",
      "CREATE INDEX seqidstartendstrand ON features (seqid, start, end, strand)\n",
      "CREATE TABLE sqlite_stat1(tbl,idx,stat)\n"
     ]
    }
   ],
   "source": [
    "db = load_database(db_file, gtf_file)\n",
    "print(db.schema())"
   ]
  },
  {
   "cell_type": "code",
   "execution_count": 92,
   "id": "be8d1b29",
   "metadata": {
    "scrolled": false
   },
   "outputs": [
    {
     "name": "stderr",
     "output_type": "stream",
     "text": [
      "100%|██████████| 29/29 [00:00<00:00, 162.67it/s]\n"
     ]
    }
   ],
   "source": [
    "res = db_query(db, queries, restrictions='gene_type=protein_coding')"
   ]
  },
  {
   "cell_type": "code",
   "execution_count": 93,
   "id": "9e69018b",
   "metadata": {},
   "outputs": [
    {
     "data": {
      "text/html": [
       "<div>\n",
       "<style scoped>\n",
       "    .dataframe tbody tr th:only-of-type {\n",
       "        vertical-align: middle;\n",
       "    }\n",
       "\n",
       "    .dataframe tbody tr th {\n",
       "        vertical-align: top;\n",
       "    }\n",
       "\n",
       "    .dataframe thead th {\n",
       "        text-align: right;\n",
       "    }\n",
       "</style>\n",
       "<table border=\"1\" class=\"dataframe\">\n",
       "  <thead>\n",
       "    <tr style=\"text-align: right;\">\n",
       "      <th></th>\n",
       "      <th>chrom</th>\n",
       "      <th>start</th>\n",
       "      <th>end</th>\n",
       "      <th>gene_id</th>\n",
       "      <th>gene_type</th>\n",
       "      <th>gene_status</th>\n",
       "      <th>gene_name</th>\n",
       "      <th>level</th>\n",
       "      <th>havana_gene</th>\n",
       "    </tr>\n",
       "  </thead>\n",
       "  <tbody>\n",
       "    <tr>\n",
       "      <th>0</th>\n",
       "      <td>chr1</td>\n",
       "      <td>10024601</td>\n",
       "      <td>10038168</td>\n",
       "      <td>ENSMUSG00000025917.9</td>\n",
       "      <td>protein_coding</td>\n",
       "      <td>KNOWN</td>\n",
       "      <td>Cops5</td>\n",
       "      <td>2</td>\n",
       "      <td>OTTMUSG00000029459.3</td>\n",
       "    </tr>\n",
       "    <tr>\n",
       "      <th>1</th>\n",
       "      <td>chr1</td>\n",
       "      <td>23844846</td>\n",
       "      <td>23922317</td>\n",
       "      <td>ENSMUSG00000026155.13</td>\n",
       "      <td>protein_coding</td>\n",
       "      <td>KNOWN</td>\n",
       "      <td>Smap1</td>\n",
       "      <td>2</td>\n",
       "      <td>OTTMUSG00000026521.4</td>\n",
       "    </tr>\n",
       "    <tr>\n",
       "      <th>2</th>\n",
       "      <td>chr1</td>\n",
       "      <td>38793645</td>\n",
       "      <td>38836711</td>\n",
       "      <td>ENSMUSG00000048814.10</td>\n",
       "      <td>protein_coding</td>\n",
       "      <td>KNOWN</td>\n",
       "      <td>Lonrf2</td>\n",
       "      <td>2</td>\n",
       "      <td>OTTMUSG00000026560.4</td>\n",
       "    </tr>\n",
       "    <tr>\n",
       "      <th>3</th>\n",
       "      <td>chr1</td>\n",
       "      <td>38863867</td>\n",
       "      <td>38898161</td>\n",
       "      <td>ENSMUSG00000026080.13</td>\n",
       "      <td>protein_coding</td>\n",
       "      <td>KNOWN</td>\n",
       "      <td>Chst10</td>\n",
       "      <td>2</td>\n",
       "      <td>OTTMUSG00000049487.3</td>\n",
       "    </tr>\n",
       "    <tr>\n",
       "      <th>4</th>\n",
       "      <td>chr1</td>\n",
       "      <td>40074079</td>\n",
       "      <td>40125231</td>\n",
       "      <td>ENSMUSG00000026073.13</td>\n",
       "      <td>protein_coding</td>\n",
       "      <td>KNOWN</td>\n",
       "      <td>Il1r2</td>\n",
       "      <td>2</td>\n",
       "      <td>OTTMUSG00000050443.3</td>\n",
       "    </tr>\n",
       "    <tr>\n",
       "      <th>...</th>\n",
       "      <td>...</td>\n",
       "      <td>...</td>\n",
       "      <td>...</td>\n",
       "      <td>...</td>\n",
       "      <td>...</td>\n",
       "      <td>...</td>\n",
       "      <td>...</td>\n",
       "      <td>...</td>\n",
       "      <td>...</td>\n",
       "    </tr>\n",
       "    <tr>\n",
       "      <th>64</th>\n",
       "      <td>chr1</td>\n",
       "      <td>177983423</td>\n",
       "      <td>178172704</td>\n",
       "      <td>ENSMUSG00000091476.6</td>\n",
       "      <td>protein_coding</td>\n",
       "      <td>KNOWN</td>\n",
       "      <td>Gm16432</td>\n",
       "      <td>2</td>\n",
       "      <td>OTTMUSG00000050375.1</td>\n",
       "    </tr>\n",
       "    <tr>\n",
       "      <th>65</th>\n",
       "      <td>chr1</td>\n",
       "      <td>178187417</td>\n",
       "      <td>178257301</td>\n",
       "      <td>ENSMUSG00000026502.13</td>\n",
       "      <td>protein_coding</td>\n",
       "      <td>KNOWN</td>\n",
       "      <td>Desi2</td>\n",
       "      <td>2</td>\n",
       "      <td>OTTMUSG00000029657.5</td>\n",
       "    </tr>\n",
       "    <tr>\n",
       "      <th>66</th>\n",
       "      <td>chr1</td>\n",
       "      <td>178319130</td>\n",
       "      <td>178322693</td>\n",
       "      <td>ENSMUSG00000026500.6</td>\n",
       "      <td>protein_coding</td>\n",
       "      <td>KNOWN</td>\n",
       "      <td>Cox20</td>\n",
       "      <td>2</td>\n",
       "      <td>OTTMUSG00000022143.1</td>\n",
       "    </tr>\n",
       "    <tr>\n",
       "      <th>67</th>\n",
       "      <td>chr1</td>\n",
       "      <td>178321108</td>\n",
       "      <td>178337797</td>\n",
       "      <td>ENSMUSG00000039630.10</td>\n",
       "      <td>protein_coding</td>\n",
       "      <td>KNOWN</td>\n",
       "      <td>Hnrnpu</td>\n",
       "      <td>2</td>\n",
       "      <td>OTTMUSG00000021881.3</td>\n",
       "    </tr>\n",
       "    <tr>\n",
       "      <th>68</th>\n",
       "      <td>chr1</td>\n",
       "      <td>184033030</td>\n",
       "      <td>184034301</td>\n",
       "      <td>ENSMUSG00000044854.7</td>\n",
       "      <td>protein_coding</td>\n",
       "      <td>KNOWN</td>\n",
       "      <td>1700056E22Rik</td>\n",
       "      <td>2</td>\n",
       "      <td>OTTMUSG00000045249.1</td>\n",
       "    </tr>\n",
       "  </tbody>\n",
       "</table>\n",
       "<p>69 rows × 9 columns</p>\n",
       "</div>"
      ],
      "text/plain": [
       "   chrom      start        end                gene_id       gene_type  \\\n",
       "0   chr1   10024601   10038168   ENSMUSG00000025917.9  protein_coding   \n",
       "1   chr1   23844846   23922317  ENSMUSG00000026155.13  protein_coding   \n",
       "2   chr1   38793645   38836711  ENSMUSG00000048814.10  protein_coding   \n",
       "3   chr1   38863867   38898161  ENSMUSG00000026080.13  protein_coding   \n",
       "4   chr1   40074079   40125231  ENSMUSG00000026073.13  protein_coding   \n",
       "..   ...        ...        ...                    ...             ...   \n",
       "64  chr1  177983423  178172704   ENSMUSG00000091476.6  protein_coding   \n",
       "65  chr1  178187417  178257301  ENSMUSG00000026502.13  protein_coding   \n",
       "66  chr1  178319130  178322693   ENSMUSG00000026500.6  protein_coding   \n",
       "67  chr1  178321108  178337797  ENSMUSG00000039630.10  protein_coding   \n",
       "68  chr1  184033030  184034301   ENSMUSG00000044854.7  protein_coding   \n",
       "\n",
       "   gene_status      gene_name level           havana_gene  \n",
       "0        KNOWN          Cops5     2  OTTMUSG00000029459.3  \n",
       "1        KNOWN          Smap1     2  OTTMUSG00000026521.4  \n",
       "2        KNOWN         Lonrf2     2  OTTMUSG00000026560.4  \n",
       "3        KNOWN         Chst10     2  OTTMUSG00000049487.3  \n",
       "4        KNOWN          Il1r2     2  OTTMUSG00000050443.3  \n",
       "..         ...            ...   ...                   ...  \n",
       "64       KNOWN        Gm16432     2  OTTMUSG00000050375.1  \n",
       "65       KNOWN          Desi2     2  OTTMUSG00000029657.5  \n",
       "66       KNOWN          Cox20     2  OTTMUSG00000022143.1  \n",
       "67       KNOWN         Hnrnpu     2  OTTMUSG00000021881.3  \n",
       "68       KNOWN  1700056E22Rik     2  OTTMUSG00000045249.1  \n",
       "\n",
       "[69 rows x 9 columns]"
      ]
     },
     "execution_count": 93,
     "metadata": {},
     "output_type": "execute_result"
    }
   ],
   "source": [
    "res"
   ]
  },
  {
   "cell_type": "code",
   "execution_count": 102,
   "id": "57dfcc0b",
   "metadata": {},
   "outputs": [
    {
     "data": {
      "text/plain": [
       "[]"
      ]
     },
     "execution_count": 102,
     "metadata": {},
     "output_type": "execute_result"
    },
    {
     "data": {
      "image/png": "[encoded data removed]",
      "text/plain": [
       "<Figure size 432x288 with 1 Axes>"
      ]
     },
     "metadata": {
      "needs_background": "light"
     },
     "output_type": "display_data"
    }
   ],
   "source": [
    "plt.plot(raw_simscore[:5000])\n",
    "plt.plot(signal1[:5000])\n",
    "plt.plot()"
   ]
  },
  {
   "cell_type": "code",
   "execution_count": null,
   "id": "d9701432",
   "metadata": {},
   "outputs": [],
   "source": []
  }
 ],
 "metadata": {
  "kernelspec": {
   "display_name": "Python [conda env:cuda111_torch]",
   "language": "python",
   "name": "conda-env-cuda111_torch-py"
  },
  "language_info": {
   "codemirror_mode": {
    "name": "ipython",
    "version": 3
   },
   "file_extension": ".py",
   "mimetype": "text/x-python",
   "name": "python",
   "nbconvert_exporter": "python",
   "pygments_lexer": "ipython3",
   "version": "3.8.12"
  },
  "metadata": {
   "interpreter": {
    "hash": "906fd561c9d1f1eca1fe878ed726ef10a77cbada122667f37ff768b7cb26fa36"
   }
  }
 },
 "nbformat": 4,
 "nbformat_minor": 5
}
