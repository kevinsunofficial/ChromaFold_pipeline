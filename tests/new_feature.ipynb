{
 "cells": [
  {
   "cell_type": "code",
   "execution_count": 1,
   "id": "4b59d2b9",
   "metadata": {},
   "outputs": [],
   "source": [
    "import os\n",
    "import os.path as osp\n",
    "import numpy as np\n",
    "import pandas as pd\n",
    "import torch\n",
    "import scipy\n",
    "import scipy.stats\n",
    "from scipy.signal import find_peaks\n",
    "from scipy.sparse import csr_matrix\n",
    "from sklearn import metrics\n",
    "import matplotlib.pyplot as plt\n",
    "import pickle\n",
    "import gffutils\n",
    "from tqdm import tqdm\n",
    "import itertools\n",
    "import coolbox\n",
    "from coolbox.api import *\n",
    "import warnings\n",
    "import sqlite3\n",
    "import json\n",
    "\n",
    "warnings.filterwarnings('ignore')"
   ]
  },
  {
   "cell_type": "code",
   "execution_count": 2,
   "id": "47800cf2",
   "metadata": {},
   "outputs": [],
   "source": [
    "def set_diagonal(mat, value=0):\n",
    "    if mat.shape[0] - mat.shape[1]:\n",
    "        raise ValueError(\n",
    "            'Matrix is not square ({}, {})'.format(mat.shape[0], mat.shape[1])\n",
    "        )\n",
    "    l = mat.shape[0]\n",
    "    idx = np.arange(l)\n",
    "    mat[idx[:-1], idx[1:]], mat[idx[1:], idx[:-1]] = value, value\n",
    "\n",
    "    return mat\n",
    "\n",
    "\n",
    "def load_pred(pred_dir, ct, chrom, pred_len=200, avg_stripe=False):\n",
    "    file = osp.join(pred_dir, ct, 'prediction_{}_chr{}.npz'.format(ct, chrom))\n",
    "    temp = np.load(file)['arr_0']\n",
    "    chrom_len = temp.shape[0]\n",
    "    prep = np.insert(temp, pred_len, 0, axis=1)\n",
    "    mat = np.array([\n",
    "        np.insert(np.zeros(chrom_len+pred_len+1), i, prep[i]) for i in range(chrom_len)\n",
    "    ])\n",
    "    summed = np.vstack((\n",
    "        np.zeros((pred_len, mat.shape[1])), mat\n",
    "    )).T[:chrom_len+pred_len, :chrom_len+pred_len]\n",
    "    if avg_stripe:\n",
    "        summed = (summed + np.vstack((\n",
    "            np.zeros((pred_len, mat.shape[1])), mat\n",
    "        ))[:chrom_len+pred_len, :chrom_len+pred_len])/2\n",
    "    \n",
    "    pred = set_diagonal(summed[pred_len:-pred_len, pred_len:-pred_len])\n",
    "\n",
    "    return pred\n",
    "\n",
    "\n",
    "def load_database(db_file, gtf_file):\n",
    "    if osp.isfile(db_file):\n",
    "        db = gffutils.FeatureDB(db_file)\n",
    "    else:\n",
    "        print('creating db from raw. This might take a while.')\n",
    "        db = gffutils.create_db(gtf_file, db_file)\n",
    "    \n",
    "    return db"
   ]
  },
  {
   "cell_type": "code",
   "execution_count": 3,
   "id": "d3807e7b",
   "metadata": {},
   "outputs": [],
   "source": [
    "input_dir = '/data/leslie/suny4/processed_input/'\n",
    "pred_dir = '/data/leslie/suny4/predictions/chromafold/'\n",
    "ct1 = 'alexia_am_gfp_myc_thelp'\n",
    "ct2 = 'alexia_am_gfp_myc_nothelp'\n",
    "chrom = 13\n",
    "db_file = '/data/leslie/suny4/data/chrom_size/gencode.vM10.basic.annotation.db'"
   ]
  },
  {
   "cell_type": "code",
   "execution_count": 4,
   "id": "f57d8db1",
   "metadata": {},
   "outputs": [
    {
     "name": "stdout",
     "output_type": "stream",
     "text": [
      "CPU times: user 4.22 s, sys: 3.17 s, total: 7.39 s\n",
      "Wall time: 7.39 s\n"
     ]
    }
   ],
   "source": [
    "%%time\n",
    "\n",
    "pred1 = load_pred(pred_dir, ct1, chrom, avg_stripe=True)\n",
    "pred2 = load_pred(pred_dir, ct2, chrom, avg_stripe=True)"
   ]
  },
  {
   "cell_type": "code",
   "execution_count": 7,
   "id": "c974d6d1",
   "metadata": {},
   "outputs": [],
   "source": [
    "def quantile_normalize(preds):\n",
    "    N, H, W = preds.shape\n",
    "    assert H == W, f'Matrix is not square ({H}, {W})'\n",
    "    pred_diag = np.column_stack((\n",
    "        np.array([\n",
    "            np.pad(np.diagonal(pred, offset=i), (0, i), 'constant') for i in range(200)\n",
    "        ]).T.ravel() for pred in preds\n",
    "    ))\n",
    "    df, df_mean = pd.DataFrame(pred_diag), pd.DataFrame(np.sort(pred_diag, axis=0)).mean(axis=1)\n",
    "    df_mean.index += 1\n",
    "    pred_diag_qn = df.rank(method='min').stack().astype(int).map(df_mean).unstack().values.T.reshape(N, -1, 200)\n",
    "    preds_qn = np.zeros_like(preds)\n",
    "    for i in range(200):\n",
    "        idx = np.arange(H - i, dtype=int)\n",
    "        preds_qn[:, idx, idx+i] = preds_qn[:, idx+i, idx] = pred_diag_qn[:, :H-i, i]\n",
    "    \n",
    "    return preds_qn"
   ]
  },
  {
   "cell_type": "code",
   "execution_count": 8,
   "id": "77f0d1da",
   "metadata": {},
   "outputs": [
    {
     "name": "stdout",
     "output_type": "stream",
     "text": [
      "CPU times: user 3.2 s, sys: 1.29 s, total: 4.48 s\n",
      "Wall time: 4.48 s\n"
     ]
    }
   ],
   "source": [
    "%%time\n",
    "\n",
    "preds_qn = quantile_normalize(np.array([pred1, pred2]))\n",
    "pred1, pred2 = preds_qn[0], preds_qn[1]"
   ]
  },
  {
   "cell_type": "code",
   "execution_count": null,
   "id": "d58b3d57",
   "metadata": {},
   "outputs": [],
   "source": []
  }
 ],
 "metadata": {
  "kernelspec": {
   "display_name": "Python [conda env:cuda111_torch]",
   "language": "python",
   "name": "conda-env-cuda111_torch-py"
  },
  "language_info": {
   "codemirror_mode": {
    "name": "ipython",
    "version": 3
   },
   "file_extension": ".py",
   "mimetype": "text/x-python",
   "name": "python",
   "nbconvert_exporter": "python",
   "pygments_lexer": "ipython3",
   "version": "3.8.12"
  }
 },
 "nbformat": 4,
 "nbformat_minor": 5
}
